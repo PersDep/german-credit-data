{
  "nbformat": 4,
  "nbformat_minor": 0,
  "metadata": {
    "kernelspec": {
      "language": "python",
      "display_name": "Python 3",
      "name": "python3"
    },
    "language_info": {
      "pygments_lexer": "ipython3",
      "nbconvert_exporter": "python",
      "version": "3.6.4",
      "file_extension": ".py",
      "codemirror_mode": {
        "name": "ipython",
        "version": 3
      },
      "name": "python",
      "mimetype": "text/x-python"
    },
    "colab": {
      "name": "german-credit-95.ipynb",
      "provenance": [],
      "collapsed_sections": []
    }
  },
  "cells": [
    {
      "cell_type": "code",
      "metadata": {
        "_uuid": "d629ff2d2480ee46fbb7e2d37f6b5fab8052498a",
        "_cell_guid": "79c7e3d0-c299-4dcb-8224-4455121ee9b0",
        "trusted": true,
        "id": "PLSrhLqjO28u"
      },
      "source": [
        "import numpy as np\n",
        "import pandas as pd\n",
        "import matplotlib.pyplot as plt\n",
        "\n",
        "%matplotlib inline"
      ],
      "execution_count": 1,
      "outputs": []
    },
    {
      "cell_type": "code",
      "metadata": {
        "trusted": true,
        "colab": {
          "base_uri": "https://localhost:8080/",
          "height": 808
        },
        "id": "07vGf7w4O281",
        "outputId": "ff628b80-ac0d-48ca-de29-c46de93ff046"
      },
      "source": [
        "dataset = pd.read_csv(\"https://raw.githubusercontent.com/PersDep/data-mining-intro-2021/main/hw03-EDA-data/german_credit.csv\")\n",
        "dataset"
      ],
      "execution_count": 2,
      "outputs": [
        {
          "output_type": "execute_result",
          "data": {
            "text/html": [
              "<div>\n",
              "<style scoped>\n",
              "    .dataframe tbody tr th:only-of-type {\n",
              "        vertical-align: middle;\n",
              "    }\n",
              "\n",
              "    .dataframe tbody tr th {\n",
              "        vertical-align: top;\n",
              "    }\n",
              "\n",
              "    .dataframe thead th {\n",
              "        text-align: right;\n",
              "    }\n",
              "</style>\n",
              "<table border=\"1\" class=\"dataframe\">\n",
              "  <thead>\n",
              "    <tr style=\"text-align: right;\">\n",
              "      <th></th>\n",
              "      <th>status</th>\n",
              "      <th>duration</th>\n",
              "      <th>credit_history</th>\n",
              "      <th>purpose</th>\n",
              "      <th>amount</th>\n",
              "      <th>savings</th>\n",
              "      <th>employment_duration</th>\n",
              "      <th>installment_rate</th>\n",
              "      <th>personal_status_sex</th>\n",
              "      <th>other_debtors</th>\n",
              "      <th>present_residence</th>\n",
              "      <th>property</th>\n",
              "      <th>age</th>\n",
              "      <th>other_installment_plans</th>\n",
              "      <th>housing</th>\n",
              "      <th>number_credits</th>\n",
              "      <th>job</th>\n",
              "      <th>people_liable</th>\n",
              "      <th>telephone</th>\n",
              "      <th>foreign_worker</th>\n",
              "      <th>credit_risk</th>\n",
              "    </tr>\n",
              "  </thead>\n",
              "  <tbody>\n",
              "    <tr>\n",
              "      <th>0</th>\n",
              "      <td>no checking account</td>\n",
              "      <td>18</td>\n",
              "      <td>all credits at this bank paid back duly</td>\n",
              "      <td>car (used)</td>\n",
              "      <td>1049</td>\n",
              "      <td>unknown/no savings account</td>\n",
              "      <td>&lt; 1 yr</td>\n",
              "      <td>&lt; 20</td>\n",
              "      <td>female : non-single or male : single</td>\n",
              "      <td>none</td>\n",
              "      <td>&gt;= 7 yrs</td>\n",
              "      <td>car or other</td>\n",
              "      <td>21</td>\n",
              "      <td>none</td>\n",
              "      <td>for free</td>\n",
              "      <td>1</td>\n",
              "      <td>skilled employee/official</td>\n",
              "      <td>0 to 2</td>\n",
              "      <td>no</td>\n",
              "      <td>no</td>\n",
              "      <td>good</td>\n",
              "    </tr>\n",
              "    <tr>\n",
              "      <th>1</th>\n",
              "      <td>no checking account</td>\n",
              "      <td>9</td>\n",
              "      <td>all credits at this bank paid back duly</td>\n",
              "      <td>others</td>\n",
              "      <td>2799</td>\n",
              "      <td>unknown/no savings account</td>\n",
              "      <td>1 &lt;= ... &lt; 4 yrs</td>\n",
              "      <td>25 &lt;= ... &lt; 35</td>\n",
              "      <td>male : married/widowed</td>\n",
              "      <td>none</td>\n",
              "      <td>1 &lt;= ... &lt; 4 yrs</td>\n",
              "      <td>unknown / no property</td>\n",
              "      <td>36</td>\n",
              "      <td>none</td>\n",
              "      <td>for free</td>\n",
              "      <td>2-3</td>\n",
              "      <td>skilled employee/official</td>\n",
              "      <td>3 or more</td>\n",
              "      <td>no</td>\n",
              "      <td>no</td>\n",
              "      <td>good</td>\n",
              "    </tr>\n",
              "    <tr>\n",
              "      <th>2</th>\n",
              "      <td>... &lt; 0 DM</td>\n",
              "      <td>12</td>\n",
              "      <td>no credits taken/all credits paid back duly</td>\n",
              "      <td>retraining</td>\n",
              "      <td>841</td>\n",
              "      <td>... &lt;  100 DM</td>\n",
              "      <td>4 &lt;= ... &lt; 7 yrs</td>\n",
              "      <td>25 &lt;= ... &lt; 35</td>\n",
              "      <td>female : non-single or male : single</td>\n",
              "      <td>none</td>\n",
              "      <td>&gt;= 7 yrs</td>\n",
              "      <td>unknown / no property</td>\n",
              "      <td>23</td>\n",
              "      <td>none</td>\n",
              "      <td>for free</td>\n",
              "      <td>1</td>\n",
              "      <td>unskilled - resident</td>\n",
              "      <td>0 to 2</td>\n",
              "      <td>no</td>\n",
              "      <td>no</td>\n",
              "      <td>good</td>\n",
              "    </tr>\n",
              "    <tr>\n",
              "      <th>3</th>\n",
              "      <td>no checking account</td>\n",
              "      <td>12</td>\n",
              "      <td>all credits at this bank paid back duly</td>\n",
              "      <td>others</td>\n",
              "      <td>2122</td>\n",
              "      <td>unknown/no savings account</td>\n",
              "      <td>1 &lt;= ... &lt; 4 yrs</td>\n",
              "      <td>20 &lt;= ... &lt; 25</td>\n",
              "      <td>male : married/widowed</td>\n",
              "      <td>none</td>\n",
              "      <td>1 &lt;= ... &lt; 4 yrs</td>\n",
              "      <td>unknown / no property</td>\n",
              "      <td>39</td>\n",
              "      <td>none</td>\n",
              "      <td>for free</td>\n",
              "      <td>2-3</td>\n",
              "      <td>unskilled - resident</td>\n",
              "      <td>3 or more</td>\n",
              "      <td>no</td>\n",
              "      <td>yes</td>\n",
              "      <td>good</td>\n",
              "    </tr>\n",
              "    <tr>\n",
              "      <th>4</th>\n",
              "      <td>no checking account</td>\n",
              "      <td>12</td>\n",
              "      <td>all credits at this bank paid back duly</td>\n",
              "      <td>others</td>\n",
              "      <td>2171</td>\n",
              "      <td>unknown/no savings account</td>\n",
              "      <td>1 &lt;= ... &lt; 4 yrs</td>\n",
              "      <td>&lt; 20</td>\n",
              "      <td>male : married/widowed</td>\n",
              "      <td>none</td>\n",
              "      <td>&gt;= 7 yrs</td>\n",
              "      <td>car or other</td>\n",
              "      <td>38</td>\n",
              "      <td>bank</td>\n",
              "      <td>rent</td>\n",
              "      <td>2-3</td>\n",
              "      <td>unskilled - resident</td>\n",
              "      <td>0 to 2</td>\n",
              "      <td>no</td>\n",
              "      <td>yes</td>\n",
              "      <td>good</td>\n",
              "    </tr>\n",
              "    <tr>\n",
              "      <th>...</th>\n",
              "      <td>...</td>\n",
              "      <td>...</td>\n",
              "      <td>...</td>\n",
              "      <td>...</td>\n",
              "      <td>...</td>\n",
              "      <td>...</td>\n",
              "      <td>...</td>\n",
              "      <td>...</td>\n",
              "      <td>...</td>\n",
              "      <td>...</td>\n",
              "      <td>...</td>\n",
              "      <td>...</td>\n",
              "      <td>...</td>\n",
              "      <td>...</td>\n",
              "      <td>...</td>\n",
              "      <td>...</td>\n",
              "      <td>...</td>\n",
              "      <td>...</td>\n",
              "      <td>...</td>\n",
              "      <td>...</td>\n",
              "      <td>...</td>\n",
              "    </tr>\n",
              "    <tr>\n",
              "      <th>995</th>\n",
              "      <td>no checking account</td>\n",
              "      <td>24</td>\n",
              "      <td>no credits taken/all credits paid back duly</td>\n",
              "      <td>furniture/equipment</td>\n",
              "      <td>1987</td>\n",
              "      <td>unknown/no savings account</td>\n",
              "      <td>1 &lt;= ... &lt; 4 yrs</td>\n",
              "      <td>25 &lt;= ... &lt; 35</td>\n",
              "      <td>male : married/widowed</td>\n",
              "      <td>none</td>\n",
              "      <td>&gt;= 7 yrs</td>\n",
              "      <td>unknown / no property</td>\n",
              "      <td>21</td>\n",
              "      <td>none</td>\n",
              "      <td>for free</td>\n",
              "      <td>1</td>\n",
              "      <td>unskilled - resident</td>\n",
              "      <td>3 or more</td>\n",
              "      <td>no</td>\n",
              "      <td>no</td>\n",
              "      <td>bad</td>\n",
              "    </tr>\n",
              "    <tr>\n",
              "      <th>996</th>\n",
              "      <td>no checking account</td>\n",
              "      <td>24</td>\n",
              "      <td>no credits taken/all credits paid back duly</td>\n",
              "      <td>others</td>\n",
              "      <td>2303</td>\n",
              "      <td>unknown/no savings account</td>\n",
              "      <td>&gt;= 7 yrs</td>\n",
              "      <td>&lt; 20</td>\n",
              "      <td>male : married/widowed</td>\n",
              "      <td>co-applicant</td>\n",
              "      <td>&lt; 1 yr</td>\n",
              "      <td>unknown / no property</td>\n",
              "      <td>45</td>\n",
              "      <td>none</td>\n",
              "      <td>rent</td>\n",
              "      <td>1</td>\n",
              "      <td>skilled employee/official</td>\n",
              "      <td>0 to 2</td>\n",
              "      <td>no</td>\n",
              "      <td>no</td>\n",
              "      <td>bad</td>\n",
              "    </tr>\n",
              "    <tr>\n",
              "      <th>997</th>\n",
              "      <td>... &gt;= 200 DM / salary for at least 1 year</td>\n",
              "      <td>21</td>\n",
              "      <td>all credits at this bank paid back duly</td>\n",
              "      <td>others</td>\n",
              "      <td>12680</td>\n",
              "      <td>... &gt;= 1000 DM</td>\n",
              "      <td>&gt;= 7 yrs</td>\n",
              "      <td>&lt; 20</td>\n",
              "      <td>male : married/widowed</td>\n",
              "      <td>none</td>\n",
              "      <td>&gt;= 7 yrs</td>\n",
              "      <td>real estate</td>\n",
              "      <td>30</td>\n",
              "      <td>none</td>\n",
              "      <td>own</td>\n",
              "      <td>1</td>\n",
              "      <td>manager/self-empl./highly qualif. employee</td>\n",
              "      <td>0 to 2</td>\n",
              "      <td>yes (under customer name)</td>\n",
              "      <td>no</td>\n",
              "      <td>bad</td>\n",
              "    </tr>\n",
              "    <tr>\n",
              "      <th>998</th>\n",
              "      <td>... &lt; 0 DM</td>\n",
              "      <td>12</td>\n",
              "      <td>no credits taken/all credits paid back duly</td>\n",
              "      <td>furniture/equipment</td>\n",
              "      <td>6468</td>\n",
              "      <td>... &gt;= 1000 DM</td>\n",
              "      <td>unemployed</td>\n",
              "      <td>25 &lt;= ... &lt; 35</td>\n",
              "      <td>male : married/widowed</td>\n",
              "      <td>none</td>\n",
              "      <td>&lt; 1 yr</td>\n",
              "      <td>real estate</td>\n",
              "      <td>52</td>\n",
              "      <td>none</td>\n",
              "      <td>rent</td>\n",
              "      <td>1</td>\n",
              "      <td>manager/self-empl./highly qualif. employee</td>\n",
              "      <td>0 to 2</td>\n",
              "      <td>yes (under customer name)</td>\n",
              "      <td>no</td>\n",
              "      <td>bad</td>\n",
              "    </tr>\n",
              "    <tr>\n",
              "      <th>999</th>\n",
              "      <td>no checking account</td>\n",
              "      <td>30</td>\n",
              "      <td>no credits taken/all credits paid back duly</td>\n",
              "      <td>car (used)</td>\n",
              "      <td>6350</td>\n",
              "      <td>... &gt;= 1000 DM</td>\n",
              "      <td>&gt;= 7 yrs</td>\n",
              "      <td>&lt; 20</td>\n",
              "      <td>male : married/widowed</td>\n",
              "      <td>none</td>\n",
              "      <td>&gt;= 7 yrs</td>\n",
              "      <td>car or other</td>\n",
              "      <td>31</td>\n",
              "      <td>none</td>\n",
              "      <td>rent</td>\n",
              "      <td>1</td>\n",
              "      <td>skilled employee/official</td>\n",
              "      <td>0 to 2</td>\n",
              "      <td>no</td>\n",
              "      <td>no</td>\n",
              "      <td>bad</td>\n",
              "    </tr>\n",
              "  </tbody>\n",
              "</table>\n",
              "<p>1000 rows × 21 columns</p>\n",
              "</div>"
            ],
            "text/plain": [
              "                                         status  ...  credit_risk\n",
              "0                           no checking account  ...         good\n",
              "1                           no checking account  ...         good\n",
              "2                                    ... < 0 DM  ...         good\n",
              "3                           no checking account  ...         good\n",
              "4                           no checking account  ...         good\n",
              "..                                          ...  ...          ...\n",
              "995                         no checking account  ...          bad\n",
              "996                         no checking account  ...          bad\n",
              "997  ... >= 200 DM / salary for at least 1 year  ...          bad\n",
              "998                                  ... < 0 DM  ...          bad\n",
              "999                         no checking account  ...          bad\n",
              "\n",
              "[1000 rows x 21 columns]"
            ]
          },
          "metadata": {
            "tags": []
          },
          "execution_count": 2
        }
      ]
    },
    {
      "cell_type": "code",
      "metadata": {
        "trusted": true,
        "colab": {
          "base_uri": "https://localhost:8080/"
        },
        "id": "MViqMDeZO283",
        "outputId": "4f1a64b0-0944-45c4-bd8d-cc68e52c8954"
      },
      "source": [
        "dataset.duplicated().value_counts()"
      ],
      "execution_count": 3,
      "outputs": [
        {
          "output_type": "execute_result",
          "data": {
            "text/plain": [
              "False    1000\n",
              "dtype: int64"
            ]
          },
          "metadata": {
            "tags": []
          },
          "execution_count": 3
        }
      ]
    },
    {
      "cell_type": "code",
      "metadata": {
        "trusted": true,
        "colab": {
          "base_uri": "https://localhost:8080/"
        },
        "id": "iyhAIbznO283",
        "outputId": "f9cd2a62-9a63-48b3-f365-a278d981597d"
      },
      "source": [
        "dataset.isna().sum().sum()"
      ],
      "execution_count": 4,
      "outputs": [
        {
          "output_type": "execute_result",
          "data": {
            "text/plain": [
              "0"
            ]
          },
          "metadata": {
            "tags": []
          },
          "execution_count": 4
        }
      ]
    },
    {
      "cell_type": "code",
      "metadata": {
        "trusted": true,
        "colab": {
          "base_uri": "https://localhost:8080/",
          "height": 754
        },
        "id": "Btti-uD5O284",
        "outputId": "05202b60-dbc8-4e1e-aa72-d44429bf3949"
      },
      "source": [
        "dataset.info()\n",
        "dataset.describe()"
      ],
      "execution_count": 5,
      "outputs": [
        {
          "output_type": "stream",
          "text": [
            "<class 'pandas.core.frame.DataFrame'>\n",
            "RangeIndex: 1000 entries, 0 to 999\n",
            "Data columns (total 21 columns):\n",
            " #   Column                   Non-Null Count  Dtype \n",
            "---  ------                   --------------  ----- \n",
            " 0   status                   1000 non-null   object\n",
            " 1   duration                 1000 non-null   int64 \n",
            " 2   credit_history           1000 non-null   object\n",
            " 3   purpose                  1000 non-null   object\n",
            " 4   amount                   1000 non-null   int64 \n",
            " 5   savings                  1000 non-null   object\n",
            " 6   employment_duration      1000 non-null   object\n",
            " 7   installment_rate         1000 non-null   object\n",
            " 8   personal_status_sex      1000 non-null   object\n",
            " 9   other_debtors            1000 non-null   object\n",
            " 10  present_residence        1000 non-null   object\n",
            " 11  property                 1000 non-null   object\n",
            " 12  age                      1000 non-null   int64 \n",
            " 13  other_installment_plans  1000 non-null   object\n",
            " 14  housing                  1000 non-null   object\n",
            " 15  number_credits           1000 non-null   object\n",
            " 16  job                      1000 non-null   object\n",
            " 17  people_liable            1000 non-null   object\n",
            " 18  telephone                1000 non-null   object\n",
            " 19  foreign_worker           1000 non-null   object\n",
            " 20  credit_risk              1000 non-null   object\n",
            "dtypes: int64(3), object(18)\n",
            "memory usage: 164.2+ KB\n"
          ],
          "name": "stdout"
        },
        {
          "output_type": "execute_result",
          "data": {
            "text/html": [
              "<div>\n",
              "<style scoped>\n",
              "    .dataframe tbody tr th:only-of-type {\n",
              "        vertical-align: middle;\n",
              "    }\n",
              "\n",
              "    .dataframe tbody tr th {\n",
              "        vertical-align: top;\n",
              "    }\n",
              "\n",
              "    .dataframe thead th {\n",
              "        text-align: right;\n",
              "    }\n",
              "</style>\n",
              "<table border=\"1\" class=\"dataframe\">\n",
              "  <thead>\n",
              "    <tr style=\"text-align: right;\">\n",
              "      <th></th>\n",
              "      <th>duration</th>\n",
              "      <th>amount</th>\n",
              "      <th>age</th>\n",
              "    </tr>\n",
              "  </thead>\n",
              "  <tbody>\n",
              "    <tr>\n",
              "      <th>count</th>\n",
              "      <td>1000.000000</td>\n",
              "      <td>1000.00000</td>\n",
              "      <td>1000.00000</td>\n",
              "    </tr>\n",
              "    <tr>\n",
              "      <th>mean</th>\n",
              "      <td>20.903000</td>\n",
              "      <td>3271.24800</td>\n",
              "      <td>35.54200</td>\n",
              "    </tr>\n",
              "    <tr>\n",
              "      <th>std</th>\n",
              "      <td>12.058814</td>\n",
              "      <td>2822.75176</td>\n",
              "      <td>11.35267</td>\n",
              "    </tr>\n",
              "    <tr>\n",
              "      <th>min</th>\n",
              "      <td>4.000000</td>\n",
              "      <td>250.00000</td>\n",
              "      <td>19.00000</td>\n",
              "    </tr>\n",
              "    <tr>\n",
              "      <th>25%</th>\n",
              "      <td>12.000000</td>\n",
              "      <td>1365.50000</td>\n",
              "      <td>27.00000</td>\n",
              "    </tr>\n",
              "    <tr>\n",
              "      <th>50%</th>\n",
              "      <td>18.000000</td>\n",
              "      <td>2319.50000</td>\n",
              "      <td>33.00000</td>\n",
              "    </tr>\n",
              "    <tr>\n",
              "      <th>75%</th>\n",
              "      <td>24.000000</td>\n",
              "      <td>3972.25000</td>\n",
              "      <td>42.00000</td>\n",
              "    </tr>\n",
              "    <tr>\n",
              "      <th>max</th>\n",
              "      <td>72.000000</td>\n",
              "      <td>18424.00000</td>\n",
              "      <td>75.00000</td>\n",
              "    </tr>\n",
              "  </tbody>\n",
              "</table>\n",
              "</div>"
            ],
            "text/plain": [
              "          duration       amount         age\n",
              "count  1000.000000   1000.00000  1000.00000\n",
              "mean     20.903000   3271.24800    35.54200\n",
              "std      12.058814   2822.75176    11.35267\n",
              "min       4.000000    250.00000    19.00000\n",
              "25%      12.000000   1365.50000    27.00000\n",
              "50%      18.000000   2319.50000    33.00000\n",
              "75%      24.000000   3972.25000    42.00000\n",
              "max      72.000000  18424.00000    75.00000"
            ]
          },
          "metadata": {
            "tags": []
          },
          "execution_count": 5
        }
      ]
    },
    {
      "cell_type": "code",
      "metadata": {
        "trusted": true,
        "colab": {
          "base_uri": "https://localhost:8080/",
          "height": 422
        },
        "id": "nUJTyBtMO285",
        "outputId": "ff60b9d0-a864-4b0c-bd95-8c189b1cf697"
      },
      "source": [
        "from sklearn.preprocessing import LabelEncoder\n",
        "for x in dataset.columns:\n",
        "  if dataset[x].dtype == 'object':\n",
        "    dataset[x] = LabelEncoder().fit_transform(dataset[x])\n",
        "dataset[\"age\"] = pd.cut(dataset.age, (18, 25, 35, 50, 65, 80), labels=[0, 1, 2, 3, 4])\n",
        "dataset[\"amount\"] = pd.cut(dataset.amount, (250, 1000, 2000, 4000, 8000, 20000), labels=[0, 1, 2, 3, 4])\n",
        "dataset[\"duration\"] = pd.cut(dataset.duration, (4, 6, 8, 12, 18, 24, 36, 48, 72), labels=[0, 1, 2, 3, 4, 5, 6, 7])\n",
        "dataset"
      ],
      "execution_count": 6,
      "outputs": [
        {
          "output_type": "execute_result",
          "data": {
            "text/html": [
              "<div>\n",
              "<style scoped>\n",
              "    .dataframe tbody tr th:only-of-type {\n",
              "        vertical-align: middle;\n",
              "    }\n",
              "\n",
              "    .dataframe tbody tr th {\n",
              "        vertical-align: top;\n",
              "    }\n",
              "\n",
              "    .dataframe thead th {\n",
              "        text-align: right;\n",
              "    }\n",
              "</style>\n",
              "<table border=\"1\" class=\"dataframe\">\n",
              "  <thead>\n",
              "    <tr style=\"text-align: right;\">\n",
              "      <th></th>\n",
              "      <th>status</th>\n",
              "      <th>duration</th>\n",
              "      <th>credit_history</th>\n",
              "      <th>purpose</th>\n",
              "      <th>amount</th>\n",
              "      <th>savings</th>\n",
              "      <th>employment_duration</th>\n",
              "      <th>installment_rate</th>\n",
              "      <th>personal_status_sex</th>\n",
              "      <th>other_debtors</th>\n",
              "      <th>present_residence</th>\n",
              "      <th>property</th>\n",
              "      <th>age</th>\n",
              "      <th>other_installment_plans</th>\n",
              "      <th>housing</th>\n",
              "      <th>number_credits</th>\n",
              "      <th>job</th>\n",
              "      <th>people_liable</th>\n",
              "      <th>telephone</th>\n",
              "      <th>foreign_worker</th>\n",
              "      <th>credit_risk</th>\n",
              "    </tr>\n",
              "  </thead>\n",
              "  <tbody>\n",
              "    <tr>\n",
              "      <th>0</th>\n",
              "      <td>3</td>\n",
              "      <td>3</td>\n",
              "      <td>0</td>\n",
              "      <td>2</td>\n",
              "      <td>1</td>\n",
              "      <td>4</td>\n",
              "      <td>2</td>\n",
              "      <td>2</td>\n",
              "      <td>0</td>\n",
              "      <td>2</td>\n",
              "      <td>3</td>\n",
              "      <td>1</td>\n",
              "      <td>0</td>\n",
              "      <td>1</td>\n",
              "      <td>0</td>\n",
              "      <td>0</td>\n",
              "      <td>1</td>\n",
              "      <td>0</td>\n",
              "      <td>0</td>\n",
              "      <td>0</td>\n",
              "      <td>1</td>\n",
              "    </tr>\n",
              "    <tr>\n",
              "      <th>1</th>\n",
              "      <td>3</td>\n",
              "      <td>2</td>\n",
              "      <td>0</td>\n",
              "      <td>5</td>\n",
              "      <td>2</td>\n",
              "      <td>4</td>\n",
              "      <td>0</td>\n",
              "      <td>1</td>\n",
              "      <td>3</td>\n",
              "      <td>2</td>\n",
              "      <td>0</td>\n",
              "      <td>3</td>\n",
              "      <td>2</td>\n",
              "      <td>1</td>\n",
              "      <td>0</td>\n",
              "      <td>1</td>\n",
              "      <td>1</td>\n",
              "      <td>1</td>\n",
              "      <td>0</td>\n",
              "      <td>0</td>\n",
              "      <td>1</td>\n",
              "    </tr>\n",
              "    <tr>\n",
              "      <th>2</th>\n",
              "      <td>0</td>\n",
              "      <td>2</td>\n",
              "      <td>4</td>\n",
              "      <td>8</td>\n",
              "      <td>0</td>\n",
              "      <td>0</td>\n",
              "      <td>1</td>\n",
              "      <td>1</td>\n",
              "      <td>0</td>\n",
              "      <td>2</td>\n",
              "      <td>3</td>\n",
              "      <td>3</td>\n",
              "      <td>0</td>\n",
              "      <td>1</td>\n",
              "      <td>0</td>\n",
              "      <td>0</td>\n",
              "      <td>3</td>\n",
              "      <td>0</td>\n",
              "      <td>0</td>\n",
              "      <td>0</td>\n",
              "      <td>1</td>\n",
              "    </tr>\n",
              "    <tr>\n",
              "      <th>3</th>\n",
              "      <td>3</td>\n",
              "      <td>2</td>\n",
              "      <td>0</td>\n",
              "      <td>5</td>\n",
              "      <td>2</td>\n",
              "      <td>4</td>\n",
              "      <td>0</td>\n",
              "      <td>0</td>\n",
              "      <td>3</td>\n",
              "      <td>2</td>\n",
              "      <td>0</td>\n",
              "      <td>3</td>\n",
              "      <td>2</td>\n",
              "      <td>1</td>\n",
              "      <td>0</td>\n",
              "      <td>1</td>\n",
              "      <td>3</td>\n",
              "      <td>1</td>\n",
              "      <td>0</td>\n",
              "      <td>1</td>\n",
              "      <td>1</td>\n",
              "    </tr>\n",
              "    <tr>\n",
              "      <th>4</th>\n",
              "      <td>3</td>\n",
              "      <td>2</td>\n",
              "      <td>0</td>\n",
              "      <td>5</td>\n",
              "      <td>2</td>\n",
              "      <td>4</td>\n",
              "      <td>0</td>\n",
              "      <td>2</td>\n",
              "      <td>3</td>\n",
              "      <td>2</td>\n",
              "      <td>3</td>\n",
              "      <td>1</td>\n",
              "      <td>2</td>\n",
              "      <td>0</td>\n",
              "      <td>2</td>\n",
              "      <td>1</td>\n",
              "      <td>3</td>\n",
              "      <td>0</td>\n",
              "      <td>0</td>\n",
              "      <td>1</td>\n",
              "      <td>1</td>\n",
              "    </tr>\n",
              "    <tr>\n",
              "      <th>...</th>\n",
              "      <td>...</td>\n",
              "      <td>...</td>\n",
              "      <td>...</td>\n",
              "      <td>...</td>\n",
              "      <td>...</td>\n",
              "      <td>...</td>\n",
              "      <td>...</td>\n",
              "      <td>...</td>\n",
              "      <td>...</td>\n",
              "      <td>...</td>\n",
              "      <td>...</td>\n",
              "      <td>...</td>\n",
              "      <td>...</td>\n",
              "      <td>...</td>\n",
              "      <td>...</td>\n",
              "      <td>...</td>\n",
              "      <td>...</td>\n",
              "      <td>...</td>\n",
              "      <td>...</td>\n",
              "      <td>...</td>\n",
              "      <td>...</td>\n",
              "    </tr>\n",
              "    <tr>\n",
              "      <th>995</th>\n",
              "      <td>3</td>\n",
              "      <td>4</td>\n",
              "      <td>4</td>\n",
              "      <td>4</td>\n",
              "      <td>1</td>\n",
              "      <td>4</td>\n",
              "      <td>0</td>\n",
              "      <td>1</td>\n",
              "      <td>3</td>\n",
              "      <td>2</td>\n",
              "      <td>3</td>\n",
              "      <td>3</td>\n",
              "      <td>0</td>\n",
              "      <td>1</td>\n",
              "      <td>0</td>\n",
              "      <td>0</td>\n",
              "      <td>3</td>\n",
              "      <td>1</td>\n",
              "      <td>0</td>\n",
              "      <td>0</td>\n",
              "      <td>0</td>\n",
              "    </tr>\n",
              "    <tr>\n",
              "      <th>996</th>\n",
              "      <td>3</td>\n",
              "      <td>4</td>\n",
              "      <td>4</td>\n",
              "      <td>5</td>\n",
              "      <td>2</td>\n",
              "      <td>4</td>\n",
              "      <td>3</td>\n",
              "      <td>2</td>\n",
              "      <td>3</td>\n",
              "      <td>0</td>\n",
              "      <td>2</td>\n",
              "      <td>3</td>\n",
              "      <td>2</td>\n",
              "      <td>1</td>\n",
              "      <td>2</td>\n",
              "      <td>0</td>\n",
              "      <td>1</td>\n",
              "      <td>0</td>\n",
              "      <td>0</td>\n",
              "      <td>0</td>\n",
              "      <td>0</td>\n",
              "    </tr>\n",
              "    <tr>\n",
              "      <th>997</th>\n",
              "      <td>1</td>\n",
              "      <td>4</td>\n",
              "      <td>0</td>\n",
              "      <td>5</td>\n",
              "      <td>4</td>\n",
              "      <td>1</td>\n",
              "      <td>3</td>\n",
              "      <td>2</td>\n",
              "      <td>3</td>\n",
              "      <td>2</td>\n",
              "      <td>3</td>\n",
              "      <td>2</td>\n",
              "      <td>1</td>\n",
              "      <td>1</td>\n",
              "      <td>1</td>\n",
              "      <td>0</td>\n",
              "      <td>0</td>\n",
              "      <td>0</td>\n",
              "      <td>1</td>\n",
              "      <td>0</td>\n",
              "      <td>0</td>\n",
              "    </tr>\n",
              "    <tr>\n",
              "      <th>998</th>\n",
              "      <td>0</td>\n",
              "      <td>2</td>\n",
              "      <td>4</td>\n",
              "      <td>4</td>\n",
              "      <td>3</td>\n",
              "      <td>1</td>\n",
              "      <td>4</td>\n",
              "      <td>1</td>\n",
              "      <td>3</td>\n",
              "      <td>2</td>\n",
              "      <td>2</td>\n",
              "      <td>2</td>\n",
              "      <td>3</td>\n",
              "      <td>1</td>\n",
              "      <td>2</td>\n",
              "      <td>0</td>\n",
              "      <td>0</td>\n",
              "      <td>0</td>\n",
              "      <td>1</td>\n",
              "      <td>0</td>\n",
              "      <td>0</td>\n",
              "    </tr>\n",
              "    <tr>\n",
              "      <th>999</th>\n",
              "      <td>3</td>\n",
              "      <td>5</td>\n",
              "      <td>4</td>\n",
              "      <td>2</td>\n",
              "      <td>3</td>\n",
              "      <td>1</td>\n",
              "      <td>3</td>\n",
              "      <td>2</td>\n",
              "      <td>3</td>\n",
              "      <td>2</td>\n",
              "      <td>3</td>\n",
              "      <td>1</td>\n",
              "      <td>1</td>\n",
              "      <td>1</td>\n",
              "      <td>2</td>\n",
              "      <td>0</td>\n",
              "      <td>1</td>\n",
              "      <td>0</td>\n",
              "      <td>0</td>\n",
              "      <td>0</td>\n",
              "      <td>0</td>\n",
              "    </tr>\n",
              "  </tbody>\n",
              "</table>\n",
              "<p>1000 rows × 21 columns</p>\n",
              "</div>"
            ],
            "text/plain": [
              "     status duration  credit_history  ...  telephone foreign_worker  credit_risk\n",
              "0         3        3               0  ...          0              0            1\n",
              "1         3        2               0  ...          0              0            1\n",
              "2         0        2               4  ...          0              0            1\n",
              "3         3        2               0  ...          0              1            1\n",
              "4         3        2               0  ...          0              1            1\n",
              "..      ...      ...             ...  ...        ...            ...          ...\n",
              "995       3        4               4  ...          0              0            0\n",
              "996       3        4               4  ...          0              0            0\n",
              "997       1        4               0  ...          1              0            0\n",
              "998       0        2               4  ...          1              0            0\n",
              "999       3        5               4  ...          0              0            0\n",
              "\n",
              "[1000 rows x 21 columns]"
            ]
          },
          "metadata": {
            "tags": []
          },
          "execution_count": 6
        }
      ]
    },
    {
      "cell_type": "markdown",
      "metadata": {
        "id": "yM4nNpJ6O285"
      },
      "source": [
        "### Feature Selection"
      ]
    },
    {
      "cell_type": "code",
      "metadata": {
        "trusted": true,
        "id": "MPaTGK0YO285"
      },
      "source": [
        "X = dataset.drop(['credit_risk'], 1)\n",
        "y = dataset['credit_risk']"
      ],
      "execution_count": 7,
      "outputs": []
    },
    {
      "cell_type": "code",
      "metadata": {
        "trusted": true,
        "id": "x9VQCLYHO286",
        "colab": {
          "base_uri": "https://localhost:8080/",
          "height": 639
        },
        "outputId": "16e7bb4b-0ca3-4243-a407-79b5d36d91fa"
      },
      "source": [
        "from sklearn.feature_selection import SelectKBest\n",
        "from sklearn.feature_selection import f_classif\n",
        "fs = SelectKBest(score_func=f_classif, k='all')\n",
        "fs.fit(X, y)\n",
        "\n",
        "rate = pd.DataFrame(fs.scores_, X.columns, columns=['score'])\n",
        "rate = rate.sort_values('score', axis=0)\n",
        "rate"
      ],
      "execution_count": 8,
      "outputs": [
        {
          "output_type": "execute_result",
          "data": {
            "text/html": [
              "<div>\n",
              "<style scoped>\n",
              "    .dataframe tbody tr th:only-of-type {\n",
              "        vertical-align: middle;\n",
              "    }\n",
              "\n",
              "    .dataframe tbody tr th {\n",
              "        vertical-align: top;\n",
              "    }\n",
              "\n",
              "    .dataframe thead th {\n",
              "        text-align: right;\n",
              "    }\n",
              "</style>\n",
              "<table border=\"1\" class=\"dataframe\">\n",
              "  <thead>\n",
              "    <tr style=\"text-align: right;\">\n",
              "      <th></th>\n",
              "      <th>score</th>\n",
              "    </tr>\n",
              "  </thead>\n",
              "  <tbody>\n",
              "    <tr>\n",
              "      <th>people_liable</th>\n",
              "      <td>0.009071</td>\n",
              "    </tr>\n",
              "    <tr>\n",
              "      <th>employment_duration</th>\n",
              "      <td>0.079635</td>\n",
              "    </tr>\n",
              "    <tr>\n",
              "      <th>installment_rate</th>\n",
              "      <td>0.126847</td>\n",
              "    </tr>\n",
              "    <tr>\n",
              "      <th>present_residence</th>\n",
              "      <td>0.155848</td>\n",
              "    </tr>\n",
              "    <tr>\n",
              "      <th>amount</th>\n",
              "      <td>0.428326</td>\n",
              "    </tr>\n",
              "    <tr>\n",
              "      <th>other_debtors</th>\n",
              "      <td>0.807899</td>\n",
              "    </tr>\n",
              "    <tr>\n",
              "      <th>job</th>\n",
              "      <td>1.071934</td>\n",
              "    </tr>\n",
              "    <tr>\n",
              "      <th>telephone</th>\n",
              "      <td>1.328891</td>\n",
              "    </tr>\n",
              "    <tr>\n",
              "      <th>number_credits</th>\n",
              "      <td>2.091652</td>\n",
              "    </tr>\n",
              "    <tr>\n",
              "      <th>duration</th>\n",
              "      <td>2.588473</td>\n",
              "    </tr>\n",
              "    <tr>\n",
              "      <th>other_installment_plans</th>\n",
              "      <td>2.903710</td>\n",
              "    </tr>\n",
              "    <tr>\n",
              "      <th>property</th>\n",
              "      <td>3.086847</td>\n",
              "    </tr>\n",
              "    <tr>\n",
              "      <th>personal_status_sex</th>\n",
              "      <td>5.894197</td>\n",
              "    </tr>\n",
              "    <tr>\n",
              "      <th>foreign_worker</th>\n",
              "      <td>6.769174</td>\n",
              "    </tr>\n",
              "    <tr>\n",
              "      <th>purpose</th>\n",
              "      <td>6.843029</td>\n",
              "    </tr>\n",
              "    <tr>\n",
              "      <th>credit_history</th>\n",
              "      <td>10.731503</td>\n",
              "    </tr>\n",
              "    <tr>\n",
              "      <th>age</th>\n",
              "      <td>12.327672</td>\n",
              "    </tr>\n",
              "    <tr>\n",
              "      <th>savings</th>\n",
              "      <td>13.531522</td>\n",
              "    </tr>\n",
              "    <tr>\n",
              "      <th>housing</th>\n",
              "      <td>15.754545</td>\n",
              "    </tr>\n",
              "    <tr>\n",
              "      <th>status</th>\n",
              "      <td>21.616718</td>\n",
              "    </tr>\n",
              "  </tbody>\n",
              "</table>\n",
              "</div>"
            ],
            "text/plain": [
              "                             score\n",
              "people_liable             0.009071\n",
              "employment_duration       0.079635\n",
              "installment_rate          0.126847\n",
              "present_residence         0.155848\n",
              "amount                    0.428326\n",
              "other_debtors             0.807899\n",
              "job                       1.071934\n",
              "telephone                 1.328891\n",
              "number_credits            2.091652\n",
              "duration                  2.588473\n",
              "other_installment_plans   2.903710\n",
              "property                  3.086847\n",
              "personal_status_sex       5.894197\n",
              "foreign_worker            6.769174\n",
              "purpose                   6.843029\n",
              "credit_history           10.731503\n",
              "age                      12.327672\n",
              "savings                  13.531522\n",
              "housing                  15.754545\n",
              "status                   21.616718"
            ]
          },
          "metadata": {
            "tags": []
          },
          "execution_count": 8
        }
      ]
    },
    {
      "cell_type": "markdown",
      "metadata": {
        "id": "xnKuloA_O287"
      },
      "source": [
        "### Logistic Regression / SVM"
      ]
    },
    {
      "cell_type": "code",
      "metadata": {
        "trusted": true,
        "id": "4MpY5CDBO287"
      },
      "source": [
        "cols = rate.index.values[::-1]\n",
        "features = X[[col for col in cols[:len(cols)//2]]]"
      ],
      "execution_count": 9,
      "outputs": []
    },
    {
      "cell_type": "code",
      "metadata": {
        "trusted": true,
        "id": "mplOer0AO287"
      },
      "source": [
        "from sklearn.model_selection import train_test_split\n",
        "X_train, X_test, y_train, y_test = train_test_split(features, y, test_size=0.2, random_state=11)"
      ],
      "execution_count": 10,
      "outputs": []
    },
    {
      "cell_type": "code",
      "metadata": {
        "id": "jb2v0sx7i7Vu"
      },
      "source": [
        "from sklearn.metrics import confusion_matrix\n",
        "from sklearn.metrics import classification_report\n",
        "def train_test_loop(model, Xtrain, ytrain, Xtest, ytest, lin=False):\n",
        "  model.fit(Xtrain, ytrain)\n",
        "  ypred = model.predict(Xtest)\n",
        "  if lin:\n",
        "    ypred = [(y > 0.5) for y in ypred]\n",
        "  print(confusion_matrix(ytest, ypred))\n",
        "  print(classification_report(ytest, ypred))"
      ],
      "execution_count": 11,
      "outputs": []
    },
    {
      "cell_type": "code",
      "metadata": {
        "colab": {
          "base_uri": "https://localhost:8080/"
        },
        "id": "QXuWSxvekbG6",
        "outputId": "a566d74e-74e0-4781-df54-ba75ad155e66"
      },
      "source": [
        "from sklearn.linear_model import LinearRegression\n",
        "train_test_loop(LinearRegression(), X_train, y_train, X_test, y_test, True)"
      ],
      "execution_count": 12,
      "outputs": [
        {
          "output_type": "stream",
          "text": [
            "[[  6  57]\n",
            " [  4 133]]\n",
            "              precision    recall  f1-score   support\n",
            "\n",
            "           0       0.60      0.10      0.16        63\n",
            "           1       0.70      0.97      0.81       137\n",
            "\n",
            "    accuracy                           0.69       200\n",
            "   macro avg       0.65      0.53      0.49       200\n",
            "weighted avg       0.67      0.69      0.61       200\n",
            "\n"
          ],
          "name": "stdout"
        }
      ]
    },
    {
      "cell_type": "code",
      "metadata": {
        "trusted": true,
        "colab": {
          "base_uri": "https://localhost:8080/"
        },
        "id": "W4_VeWNCO288",
        "outputId": "84c608c5-4f0e-4eda-90a9-b8bfbdaa7d56"
      },
      "source": [
        "from sklearn.linear_model import LogisticRegression\n",
        "train_test_loop(LogisticRegression(solver='liblinear'), X_train, y_train, X_test, y_test)"
      ],
      "execution_count": 13,
      "outputs": [
        {
          "output_type": "stream",
          "text": [
            "[[  7  56]\n",
            " [  5 132]]\n",
            "              precision    recall  f1-score   support\n",
            "\n",
            "           0       0.58      0.11      0.19        63\n",
            "           1       0.70      0.96      0.81       137\n",
            "\n",
            "    accuracy                           0.69       200\n",
            "   macro avg       0.64      0.54      0.50       200\n",
            "weighted avg       0.66      0.69      0.62       200\n",
            "\n"
          ],
          "name": "stdout"
        }
      ]
    },
    {
      "cell_type": "code",
      "metadata": {
        "colab": {
          "base_uri": "https://localhost:8080/"
        },
        "id": "auT-lOVqav-h",
        "outputId": "8913ab61-4d09-4aef-d541-9076d17ffd61"
      },
      "source": [
        "from sklearn.svm import SVC\n",
        "train_test_loop(SVC(kernel=\"poly\", degree=10), X_train, y_train, X_test, y_test)"
      ],
      "execution_count": 14,
      "outputs": [
        {
          "output_type": "stream",
          "text": [
            "[[ 30  33]\n",
            " [ 20 117]]\n",
            "              precision    recall  f1-score   support\n",
            "\n",
            "           0       0.60      0.48      0.53        63\n",
            "           1       0.78      0.85      0.82       137\n",
            "\n",
            "    accuracy                           0.73       200\n",
            "   macro avg       0.69      0.67      0.67       200\n",
            "weighted avg       0.72      0.73      0.73       200\n",
            "\n"
          ],
          "name": "stdout"
        }
      ]
    },
    {
      "cell_type": "markdown",
      "metadata": {
        "id": "DoxbXk8IO289"
      },
      "source": [
        "### Logistic Regression / SVM with SMOTE"
      ]
    },
    {
      "cell_type": "code",
      "metadata": {
        "trusted": true,
        "id": "8uSqrwNfO289"
      },
      "source": [
        "#!pip install smote-variants\n",
        "from smote_variants import SMOTE\n",
        "smote = SMOTE()"
      ],
      "execution_count": 15,
      "outputs": []
    },
    {
      "cell_type": "code",
      "metadata": {
        "trusted": true,
        "colab": {
          "base_uri": "https://localhost:8080/"
        },
        "id": "6f1PjnHHO289",
        "outputId": "ff3e771c-8749-4822-e43e-e7dfbb8f8c1a"
      },
      "source": [
        "X_smote, y_smote = smote.sample(features.values, y.values)\n",
        "print(\"Before SMOTE:\")\n",
        "y.value_counts()"
      ],
      "execution_count": 26,
      "outputs": [
        {
          "output_type": "stream",
          "text": [
            "2021-03-24 13:53:26,180:INFO:SMOTE: Running sampling via ('SMOTE', \"{'proportion': 1.0, 'n_neighbors': 5, 'n_jobs': 1, 'random_state': None}\")\n"
          ],
          "name": "stderr"
        },
        {
          "output_type": "stream",
          "text": [
            "Before SMOTE:\n"
          ],
          "name": "stdout"
        },
        {
          "output_type": "execute_result",
          "data": {
            "text/plain": [
              "1    700\n",
              "0    300\n",
              "Name: credit_risk, dtype: int64"
            ]
          },
          "metadata": {
            "tags": []
          },
          "execution_count": 26
        }
      ]
    },
    {
      "cell_type": "code",
      "metadata": {
        "colab": {
          "base_uri": "https://localhost:8080/"
        },
        "id": "L63EShBTXkwM",
        "outputId": "fd90b78d-1a68-4c0e-ac2b-1f5f0f8fd2ce"
      },
      "source": [
        "print(\"After SMOTE:\")\n",
        "np.unique(y_smote, return_counts=True)\n",
        "print(X_smote.shape)\n",
        "print(y_smote.shape)"
      ],
      "execution_count": 24,
      "outputs": [
        {
          "output_type": "stream",
          "text": [
            "After SMOTE:\n",
            "(1200, 10)\n",
            "(1200,)\n"
          ],
          "name": "stdout"
        }
      ]
    },
    {
      "cell_type": "code",
      "metadata": {
        "id": "KfiM5L8IYOLO"
      },
      "source": [
        "X_train_smote, X_test_smote, y_train_smote, y_test_smote = train_test_split(X_smote, y_smote, test_size=0.2, random_state=110)"
      ],
      "execution_count": 18,
      "outputs": []
    },
    {
      "cell_type": "code",
      "metadata": {
        "colab": {
          "base_uri": "https://localhost:8080/"
        },
        "id": "qEDXLZq0nB6A",
        "outputId": "da025f97-b6aa-4922-c1f9-d092b7338e96"
      },
      "source": [
        "train_test_loop(LinearRegression(), X_train_smote, y_train_smote, X_test, y_test, True)"
      ],
      "execution_count": 19,
      "outputs": [
        {
          "output_type": "stream",
          "text": [
            "[[39 24]\n",
            " [43 94]]\n",
            "              precision    recall  f1-score   support\n",
            "\n",
            "           0       0.48      0.62      0.54        63\n",
            "           1       0.80      0.69      0.74       137\n",
            "\n",
            "    accuracy                           0.67       200\n",
            "   macro avg       0.64      0.65      0.64       200\n",
            "weighted avg       0.70      0.67      0.67       200\n",
            "\n"
          ],
          "name": "stdout"
        }
      ]
    },
    {
      "cell_type": "code",
      "metadata": {
        "colab": {
          "base_uri": "https://localhost:8080/"
        },
        "id": "egjspwc2TMq3",
        "outputId": "88233365-03c4-4626-a625-a69b9caf0d35"
      },
      "source": [
        "train_test_loop(LogisticRegression(solver='liblinear'), X_train_smote, y_train_smote, X_test, y_test)"
      ],
      "execution_count": 20,
      "outputs": [
        {
          "output_type": "stream",
          "text": [
            "[[38 25]\n",
            " [42 95]]\n",
            "              precision    recall  f1-score   support\n",
            "\n",
            "           0       0.47      0.60      0.53        63\n",
            "           1       0.79      0.69      0.74       137\n",
            "\n",
            "    accuracy                           0.67       200\n",
            "   macro avg       0.63      0.65      0.64       200\n",
            "weighted avg       0.69      0.67      0.67       200\n",
            "\n"
          ],
          "name": "stdout"
        }
      ]
    },
    {
      "cell_type": "code",
      "metadata": {
        "trusted": true,
        "colab": {
          "base_uri": "https://localhost:8080/"
        },
        "id": "knm9UBmCO28_",
        "outputId": "4484a305-fe9d-4182-baa6-c9d94a2a0a76"
      },
      "source": [
        "train_test_loop(SVC(kernel=\"poly\", degree=10), X_train_smote, y_train_smote, X_test, y_test)\n",
        "train_test_loop(SVC(kernel=\"poly\", degree=10), X_train_smote, y_train_smote, X_test_smote, y_test_smote)"
      ],
      "execution_count": 21,
      "outputs": [
        {
          "output_type": "stream",
          "text": [
            "[[ 58   5]\n",
            " [  5 132]]\n",
            "              precision    recall  f1-score   support\n",
            "\n",
            "           0       0.92      0.92      0.92        63\n",
            "           1       0.96      0.96      0.96       137\n",
            "\n",
            "    accuracy                           0.95       200\n",
            "   macro avg       0.94      0.94      0.94       200\n",
            "weighted avg       0.95      0.95      0.95       200\n",
            "\n",
            "[[116  26]\n",
            " [ 36 102]]\n",
            "              precision    recall  f1-score   support\n",
            "\n",
            "           0       0.76      0.82      0.79       142\n",
            "           1       0.80      0.74      0.77       138\n",
            "\n",
            "    accuracy                           0.78       280\n",
            "   macro avg       0.78      0.78      0.78       280\n",
            "weighted avg       0.78      0.78      0.78       280\n",
            "\n"
          ],
          "name": "stdout"
        }
      ]
    },
    {
      "cell_type": "code",
      "metadata": {
        "colab": {
          "base_uri": "https://localhost:8080/"
        },
        "id": "kdssF_mYi1ZV",
        "outputId": "39fbae37-d3f2-4c59-e1a3-efa11230b945"
      },
      "source": [
        "for test_object in X_test.values:\n",
        "  for i, x in enumerate(X_smote):\n",
        "    if np.array_equal(x, test_object):\n",
        "      X_smote = np.delete(X_smote, i, axis=0)\n",
        "      y_smote = np.delete(y_smote, i)\n",
        "      break\n",
        "X_train_smote, y_train_smote = X_smote, y_smote\n",
        "X_smote.shape, y_smote.shape"
      ],
      "execution_count": 27,
      "outputs": [
        {
          "output_type": "execute_result",
          "data": {
            "text/plain": [
              "((1200, 10), (1200,))"
            ]
          },
          "metadata": {
            "tags": []
          },
          "execution_count": 27
        }
      ]
    },
    {
      "cell_type": "code",
      "metadata": {
        "colab": {
          "base_uri": "https://localhost:8080/"
        },
        "id": "R2dNmhKaoW_N",
        "outputId": "9d118acd-44c8-44ea-afa4-9efd9e90a8b3"
      },
      "source": [
        "train_test_loop(SVC(kernel=\"poly\", degree=7), X_train_smote, y_train_smote, X_test, y_test)"
      ],
      "execution_count": 28,
      "outputs": [
        {
          "output_type": "stream",
          "text": [
            "[[ 47  16]\n",
            " [ 31 106]]\n",
            "              precision    recall  f1-score   support\n",
            "\n",
            "           0       0.60      0.75      0.67        63\n",
            "           1       0.87      0.77      0.82       137\n",
            "\n",
            "    accuracy                           0.77       200\n",
            "   macro avg       0.74      0.76      0.74       200\n",
            "weighted avg       0.78      0.77      0.77       200\n",
            "\n"
          ],
          "name": "stdout"
        }
      ]
    }
  ]
}